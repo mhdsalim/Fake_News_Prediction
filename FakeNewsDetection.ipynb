{
 "cells": [
  {
   "cell_type": "markdown",
   "id": "ff552ecd",
   "metadata": {},
   "source": [
    "# Fake News Detection"
   ]
  },
  {
   "cell_type": "markdown",
   "id": "620f97a0",
   "metadata": {},
   "source": [
    "The topic of fake news detection on social media has recently attracted tremendous attention. The basic countermeasure of comparing websites against a list of labeled fake news sources is inflexible, and so a machine learning approach is desirable. Our project aims to use Natural Language Processing to detect fake news directly, based on the text content of news articles."
   ]
  },
  {
   "cell_type": "markdown",
   "id": "c5adee9c",
   "metadata": {},
   "source": [
    "### Objective\n",
    "\n",
    "Develop a machine learning program to identify when an article might be fake news."
   ]
  },
  {
   "cell_type": "markdown",
   "id": "545d6ed6",
   "metadata": {},
   "source": [
    "### Dataset Description:\n",
    "\n",
    "1. id: unique id for a news article\n",
    "2. title: the title of a news article\n",
    "3. author: author of the news article\n",
    "4. text: the text of the article; could be incomplete\n",
    "5. label: a label that marks whether the news article is real or fake:\n",
    "    - Fake news - 1\n",
    "    - Real News - 0"
   ]
  },
  {
   "cell_type": "markdown",
   "id": "d4bc7c3e-276d-434c-b44d-afd10278532d",
   "metadata": {},
   "source": [
    "### Importing Libraries"
   ]
  },
  {
   "cell_type": "code",
   "execution_count": 82,
   "id": "4e977906-377f-49a2-9520-d041e936fee6",
   "metadata": {},
   "outputs": [],
   "source": [
    "import numpy as np\n",
    "import pandas as pd\n",
    "import re\n",
    "import nltk\n",
    "from nltk.corpus import stopwords\n",
    "from sklearn.feature_extraction.text import TfidfVectorizer\n",
    "from sklearn.model_selection import train_test_split\n",
    "from sklearn.linear_model import LogisticRegression\n",
    "from sklearn.metrics import accuracy_score\n",
    "from nltk.stem.porter import PorterStemmer\n",
    "from sklearn.metrics import confusion_matrix\n",
    "from sklearn.metrics import classification_report\n",
    "from tensorflow.keras.layers import Embedding,Dropout\n",
    "from tensorflow.keras.preprocessing.sequence import pad_sequences\n",
    "from tensorflow.keras.models import Sequential\n",
    "from tensorflow.keras.preprocessing.text import one_hot\n",
    "from tensorflow.keras.layers import LSTM,Bidirectional,GRU\n",
    "from tensorflow.keras.layers import Dense\n",
    "# from sklearn.metrics import classification_report,accuracy_score\n",
    "# from sklearn.linear_model import LogisticRegression\n",
    "from sklearn.tree import DecisionTreeClassifier\n",
    "from sklearn.ensemble import RandomForestClassifier\n",
    "from xgboost import XGBClassifier\n",
    "# from catboost import CatBoostClassifier\n",
    "# from sklearn.linear_model import LogisticRegression\n",
    "from sklearn.naive_bayes import MultinomialNB"
   ]
  },
  {
   "cell_type": "code",
   "execution_count": 83,
   "id": "ad316dbc-8c35-4c82-a04f-c6b7029c7f99",
   "metadata": {},
   "outputs": [
    {
     "name": "stderr",
     "output_type": "stream",
     "text": [
      "[nltk_data] Downloading package stopwords to\n",
      "[nltk_data]     C:\\Users\\DELL\\AppData\\Roaming\\nltk_data...\n",
      "[nltk_data]   Package stopwords is already up-to-date!\n"
     ]
    },
    {
     "data": {
      "text/plain": [
       "True"
      ]
     },
     "execution_count": 83,
     "metadata": {},
     "output_type": "execute_result"
    }
   ],
   "source": [
    "nltk.download('stopwords')"
   ]
  },
  {
   "cell_type": "code",
   "execution_count": 84,
   "id": "6929a490-f3bf-4b8a-af31-04160a1919c3",
   "metadata": {},
   "outputs": [
    {
     "name": "stdout",
     "output_type": "stream",
     "text": [
      "['i', 'me', 'my', 'myself', 'we', 'our', 'ours', 'ourselves', 'you', \"you're\", \"you've\", \"you'll\", \"you'd\", 'your', 'yours', 'yourself', 'yourselves', 'he', 'him', 'his', 'himself', 'she', \"she's\", 'her', 'hers', 'herself', 'it', \"it's\", 'its', 'itself', 'they', 'them', 'their', 'theirs', 'themselves', 'what', 'which', 'who', 'whom', 'this', 'that', \"that'll\", 'these', 'those', 'am', 'is', 'are', 'was', 'were', 'be', 'been', 'being', 'have', 'has', 'had', 'having', 'do', 'does', 'did', 'doing', 'a', 'an', 'the', 'and', 'but', 'if', 'or', 'because', 'as', 'until', 'while', 'of', 'at', 'by', 'for', 'with', 'about', 'against', 'between', 'into', 'through', 'during', 'before', 'after', 'above', 'below', 'to', 'from', 'up', 'down', 'in', 'out', 'on', 'off', 'over', 'under', 'again', 'further', 'then', 'once', 'here', 'there', 'when', 'where', 'why', 'how', 'all', 'any', 'both', 'each', 'few', 'more', 'most', 'other', 'some', 'such', 'no', 'nor', 'not', 'only', 'own', 'same', 'so', 'than', 'too', 'very', 's', 't', 'can', 'will', 'just', 'don', \"don't\", 'should', \"should've\", 'now', 'd', 'll', 'm', 'o', 're', 've', 'y', 'ain', 'aren', \"aren't\", 'couldn', \"couldn't\", 'didn', \"didn't\", 'doesn', \"doesn't\", 'hadn', \"hadn't\", 'hasn', \"hasn't\", 'haven', \"haven't\", 'isn', \"isn't\", 'ma', 'mightn', \"mightn't\", 'mustn', \"mustn't\", 'needn', \"needn't\", 'shan', \"shan't\", 'shouldn', \"shouldn't\", 'wasn', \"wasn't\", 'weren', \"weren't\", 'won', \"won't\", 'wouldn', \"wouldn't\"]\n"
     ]
    }
   ],
   "source": [
    "print(stopwords.words('english'))"
   ]
  },
  {
   "cell_type": "markdown",
   "id": "0996db60-e894-4c5d-92f7-3752ae8da85f",
   "metadata": {},
   "source": [
    "### Data Pre-processing"
   ]
  },
  {
   "cell_type": "code",
   "execution_count": 85,
   "id": "cc759f12-73b7-4312-be3d-c75724818431",
   "metadata": {},
   "outputs": [
    {
     "data": {
      "text/html": [
       "<div>\n",
       "<style scoped>\n",
       "    .dataframe tbody tr th:only-of-type {\n",
       "        vertical-align: middle;\n",
       "    }\n",
       "\n",
       "    .dataframe tbody tr th {\n",
       "        vertical-align: top;\n",
       "    }\n",
       "\n",
       "    .dataframe thead th {\n",
       "        text-align: right;\n",
       "    }\n",
       "</style>\n",
       "<table border=\"1\" class=\"dataframe\">\n",
       "  <thead>\n",
       "    <tr style=\"text-align: right;\">\n",
       "      <th></th>\n",
       "      <th>id</th>\n",
       "      <th>title</th>\n",
       "      <th>author</th>\n",
       "      <th>text</th>\n",
       "      <th>label</th>\n",
       "    </tr>\n",
       "  </thead>\n",
       "  <tbody>\n",
       "    <tr>\n",
       "      <th>0</th>\n",
       "      <td>0</td>\n",
       "      <td>House Dem Aide: We Didn’t Even See Comey’s Let...</td>\n",
       "      <td>Darrell Lucus</td>\n",
       "      <td>House Dem Aide: We Didn’t Even See Comey’s Let...</td>\n",
       "      <td>1</td>\n",
       "    </tr>\n",
       "    <tr>\n",
       "      <th>1</th>\n",
       "      <td>1</td>\n",
       "      <td>FLYNN: Hillary Clinton, Big Woman on Campus - ...</td>\n",
       "      <td>Daniel J. Flynn</td>\n",
       "      <td>Ever get the feeling your life circles the rou...</td>\n",
       "      <td>0</td>\n",
       "    </tr>\n",
       "    <tr>\n",
       "      <th>2</th>\n",
       "      <td>2</td>\n",
       "      <td>Why the Truth Might Get You Fired</td>\n",
       "      <td>Consortiumnews.com</td>\n",
       "      <td>Why the Truth Might Get You Fired October 29, ...</td>\n",
       "      <td>1</td>\n",
       "    </tr>\n",
       "    <tr>\n",
       "      <th>3</th>\n",
       "      <td>3</td>\n",
       "      <td>15 Civilians Killed In Single US Airstrike Hav...</td>\n",
       "      <td>Jessica Purkiss</td>\n",
       "      <td>Videos 15 Civilians Killed In Single US Airstr...</td>\n",
       "      <td>1</td>\n",
       "    </tr>\n",
       "    <tr>\n",
       "      <th>4</th>\n",
       "      <td>4</td>\n",
       "      <td>Iranian woman jailed for fictional unpublished...</td>\n",
       "      <td>Howard Portnoy</td>\n",
       "      <td>Print \\nAn Iranian woman has been sentenced to...</td>\n",
       "      <td>1</td>\n",
       "    </tr>\n",
       "  </tbody>\n",
       "</table>\n",
       "</div>"
      ],
      "text/plain": [
       "   id                                              title              author  \\\n",
       "0   0  House Dem Aide: We Didn’t Even See Comey’s Let...       Darrell Lucus   \n",
       "1   1  FLYNN: Hillary Clinton, Big Woman on Campus - ...     Daniel J. Flynn   \n",
       "2   2                  Why the Truth Might Get You Fired  Consortiumnews.com   \n",
       "3   3  15 Civilians Killed In Single US Airstrike Hav...     Jessica Purkiss   \n",
       "4   4  Iranian woman jailed for fictional unpublished...      Howard Portnoy   \n",
       "\n",
       "                                                text  label  \n",
       "0  House Dem Aide: We Didn’t Even See Comey’s Let...      1  \n",
       "1  Ever get the feeling your life circles the rou...      0  \n",
       "2  Why the Truth Might Get You Fired October 29, ...      1  \n",
       "3  Videos 15 Civilians Killed In Single US Airstr...      1  \n",
       "4  Print \\nAn Iranian woman has been sentenced to...      1  "
      ]
     },
     "execution_count": 85,
     "metadata": {},
     "output_type": "execute_result"
    }
   ],
   "source": [
    "news_data = pd.read_csv('/Projects/Fake News Detection/Datasets/train.csv')\n",
    "test_data = pd.read_csv('/Projects/Fake News Detection/Datasets/test.csv')\n",
    "news_data.head()"
   ]
  },
  {
   "cell_type": "code",
   "execution_count": 86,
   "id": "aef4d1f0-3605-422e-aa01-753131cfe186",
   "metadata": {},
   "outputs": [
    {
     "data": {
      "text/html": [
       "<div>\n",
       "<style scoped>\n",
       "    .dataframe tbody tr th:only-of-type {\n",
       "        vertical-align: middle;\n",
       "    }\n",
       "\n",
       "    .dataframe tbody tr th {\n",
       "        vertical-align: top;\n",
       "    }\n",
       "\n",
       "    .dataframe thead th {\n",
       "        text-align: right;\n",
       "    }\n",
       "</style>\n",
       "<table border=\"1\" class=\"dataframe\">\n",
       "  <thead>\n",
       "    <tr style=\"text-align: right;\">\n",
       "      <th></th>\n",
       "      <th>id</th>\n",
       "      <th>title</th>\n",
       "      <th>author</th>\n",
       "      <th>text</th>\n",
       "    </tr>\n",
       "  </thead>\n",
       "  <tbody>\n",
       "    <tr>\n",
       "      <th>0</th>\n",
       "      <td>20800</td>\n",
       "      <td>Specter of Trump Loosens Tongues, if Not Purse...</td>\n",
       "      <td>David Streitfeld</td>\n",
       "      <td>PALO ALTO, Calif.  —   After years of scorning...</td>\n",
       "    </tr>\n",
       "    <tr>\n",
       "      <th>1</th>\n",
       "      <td>20801</td>\n",
       "      <td>Russian warships ready to strike terrorists ne...</td>\n",
       "      <td>NaN</td>\n",
       "      <td>Russian warships ready to strike terrorists ne...</td>\n",
       "    </tr>\n",
       "    <tr>\n",
       "      <th>2</th>\n",
       "      <td>20802</td>\n",
       "      <td>#NoDAPL: Native American Leaders Vow to Stay A...</td>\n",
       "      <td>Common Dreams</td>\n",
       "      <td>Videos #NoDAPL: Native American Leaders Vow to...</td>\n",
       "    </tr>\n",
       "    <tr>\n",
       "      <th>3</th>\n",
       "      <td>20803</td>\n",
       "      <td>Tim Tebow Will Attempt Another Comeback, This ...</td>\n",
       "      <td>Daniel Victor</td>\n",
       "      <td>If at first you don’t succeed, try a different...</td>\n",
       "    </tr>\n",
       "    <tr>\n",
       "      <th>4</th>\n",
       "      <td>20804</td>\n",
       "      <td>Keiser Report: Meme Wars (E995)</td>\n",
       "      <td>Truth Broadcast Network</td>\n",
       "      <td>42 mins ago 1 Views 0 Comments 0 Likes 'For th...</td>\n",
       "    </tr>\n",
       "  </tbody>\n",
       "</table>\n",
       "</div>"
      ],
      "text/plain": [
       "      id                                              title  \\\n",
       "0  20800  Specter of Trump Loosens Tongues, if Not Purse...   \n",
       "1  20801  Russian warships ready to strike terrorists ne...   \n",
       "2  20802  #NoDAPL: Native American Leaders Vow to Stay A...   \n",
       "3  20803  Tim Tebow Will Attempt Another Comeback, This ...   \n",
       "4  20804                    Keiser Report: Meme Wars (E995)   \n",
       "\n",
       "                    author                                               text  \n",
       "0         David Streitfeld  PALO ALTO, Calif.  —   After years of scorning...  \n",
       "1                      NaN  Russian warships ready to strike terrorists ne...  \n",
       "2            Common Dreams  Videos #NoDAPL: Native American Leaders Vow to...  \n",
       "3            Daniel Victor  If at first you don’t succeed, try a different...  \n",
       "4  Truth Broadcast Network  42 mins ago 1 Views 0 Comments 0 Likes 'For th...  "
      ]
     },
     "execution_count": 86,
     "metadata": {},
     "output_type": "execute_result"
    }
   ],
   "source": [
    "test_data.head()"
   ]
  },
  {
   "cell_type": "code",
   "execution_count": 87,
   "id": "0b204dfa-c52c-4449-a974-3164842a6d55",
   "metadata": {},
   "outputs": [
    {
     "data": {
      "text/plain": [
       "(20800, 5)"
      ]
     },
     "execution_count": 87,
     "metadata": {},
     "output_type": "execute_result"
    }
   ],
   "source": [
    "news_data.shape"
   ]
  },
  {
   "cell_type": "code",
   "execution_count": 88,
   "id": "0b53a8f6-eafd-4208-a7b0-51504cc154bb",
   "metadata": {},
   "outputs": [
    {
     "data": {
      "text/plain": [
       "(5200, 4)"
      ]
     },
     "execution_count": 88,
     "metadata": {},
     "output_type": "execute_result"
    }
   ],
   "source": [
    "test_data.shape"
   ]
  },
  {
   "cell_type": "code",
   "execution_count": 89,
   "id": "345cd312-129b-4f22-acb9-7673528ec082",
   "metadata": {},
   "outputs": [
    {
     "data": {
      "text/plain": [
       "id           0\n",
       "title      558\n",
       "author    1957\n",
       "text        39\n",
       "label        0\n",
       "dtype: int64"
      ]
     },
     "execution_count": 89,
     "metadata": {},
     "output_type": "execute_result"
    }
   ],
   "source": [
    "news_data.isnull().sum()"
   ]
  },
  {
   "cell_type": "code",
   "execution_count": 90,
   "id": "a964cead-5893-4164-9451-76db35b7d6c1",
   "metadata": {},
   "outputs": [
    {
     "data": {
      "text/plain": [
       "id          0\n",
       "title     122\n",
       "author    503\n",
       "text        7\n",
       "dtype: int64"
      ]
     },
     "execution_count": 90,
     "metadata": {},
     "output_type": "execute_result"
    }
   ],
   "source": [
    "test_data.isnull().sum()"
   ]
  },
  {
   "cell_type": "code",
   "execution_count": 91,
   "id": "e70be7f2-31f6-4203-81aa-c3f88e07e01f",
   "metadata": {},
   "outputs": [],
   "source": [
    "# replacing the null values with empty string\n",
    "news_data = news_data.fillna('')\n",
    "test_data = test_data.fillna('')"
   ]
  },
  {
   "cell_type": "code",
   "execution_count": 92,
   "id": "43d1e6b7-89e4-4cc9-8930-2a445499291a",
   "metadata": {},
   "outputs": [
    {
     "data": {
      "text/plain": [
       "id        0\n",
       "title     0\n",
       "author    0\n",
       "text      0\n",
       "label     0\n",
       "dtype: int64"
      ]
     },
     "execution_count": 92,
     "metadata": {},
     "output_type": "execute_result"
    }
   ],
   "source": [
    "news_data.isnull().sum()"
   ]
  },
  {
   "cell_type": "code",
   "execution_count": 93,
   "id": "7cd25e5a-5d20-4498-ba98-20df156a0c04",
   "metadata": {},
   "outputs": [],
   "source": [
    "# merging the author name and news title\n",
    "\n",
    "news_data['content'] = news_data['author']+' '+news_data['title']\n",
    "test_data['content'] = test_data['author']+' '+test_data['title']"
   ]
  },
  {
   "cell_type": "code",
   "execution_count": 94,
   "id": "85125432-1a5a-4b7c-a164-23a12332a217",
   "metadata": {},
   "outputs": [
    {
     "name": "stdout",
     "output_type": "stream",
     "text": [
      "0        Darrell Lucus House Dem Aide: We Didn’t Even S...\n",
      "1        Daniel J. Flynn FLYNN: Hillary Clinton, Big Wo...\n",
      "2        Consortiumnews.com Why the Truth Might Get You...\n",
      "3        Jessica Purkiss 15 Civilians Killed In Single ...\n",
      "4        Howard Portnoy Iranian woman jailed for fictio...\n",
      "                               ...                        \n",
      "20795    Jerome Hudson Rapper T.I.: Trump a ’Poster Chi...\n",
      "20796    Benjamin Hoffman N.F.L. Playoffs: Schedule, Ma...\n",
      "20797    Michael J. de la Merced and Rachel Abrams Macy...\n",
      "20798    Alex Ansary NATO, Russia To Hold Parallel Exer...\n",
      "20799              David Swanson What Keeps the F-35 Alive\n",
      "Name: content, Length: 20800, dtype: object\n"
     ]
    }
   ],
   "source": [
    "print(news_data['content'])"
   ]
  },
  {
   "cell_type": "code",
   "execution_count": 95,
   "id": "3d03ed97-e7b4-4b9c-b8cb-2bbd1c50b40f",
   "metadata": {},
   "outputs": [],
   "source": [
    "# separating the data & label\n",
    "\n",
    "## Get the Independent Features\n",
    "X = news_data.drop(columns='label', axis=1)\n",
    "## Get the Dependent features\n",
    "Y = news_data['label']"
   ]
  },
  {
   "cell_type": "code",
   "execution_count": 96,
   "id": "b64384ff-1f64-4c4d-a7d7-35afd295900c",
   "metadata": {},
   "outputs": [
    {
     "data": {
      "text/plain": [
       "1    10413\n",
       "0    10387\n",
       "Name: label, dtype: int64"
      ]
     },
     "execution_count": 96,
     "metadata": {},
     "output_type": "execute_result"
    }
   ],
   "source": [
    "Y.value_counts()"
   ]
  },
  {
   "cell_type": "code",
   "execution_count": 97,
   "id": "a7722759-0aa8-40cd-83c6-4780d7466c5f",
   "metadata": {},
   "outputs": [
    {
     "name": "stdout",
     "output_type": "stream",
     "text": [
      "          id                                              title  \\\n",
      "0          0  House Dem Aide: We Didn’t Even See Comey’s Let...   \n",
      "1          1  FLYNN: Hillary Clinton, Big Woman on Campus - ...   \n",
      "2          2                  Why the Truth Might Get You Fired   \n",
      "3          3  15 Civilians Killed In Single US Airstrike Hav...   \n",
      "4          4  Iranian woman jailed for fictional unpublished...   \n",
      "...      ...                                                ...   \n",
      "20795  20795  Rapper T.I.: Trump a ’Poster Child For White S...   \n",
      "20796  20796  N.F.L. Playoffs: Schedule, Matchups and Odds -...   \n",
      "20797  20797  Macy’s Is Said to Receive Takeover Approach by...   \n",
      "20798  20798  NATO, Russia To Hold Parallel Exercises In Bal...   \n",
      "20799  20799                          What Keeps the F-35 Alive   \n",
      "\n",
      "                                          author  \\\n",
      "0                                  Darrell Lucus   \n",
      "1                                Daniel J. Flynn   \n",
      "2                             Consortiumnews.com   \n",
      "3                                Jessica Purkiss   \n",
      "4                                 Howard Portnoy   \n",
      "...                                          ...   \n",
      "20795                              Jerome Hudson   \n",
      "20796                           Benjamin Hoffman   \n",
      "20797  Michael J. de la Merced and Rachel Abrams   \n",
      "20798                                Alex Ansary   \n",
      "20799                              David Swanson   \n",
      "\n",
      "                                                    text  \\\n",
      "0      House Dem Aide: We Didn’t Even See Comey’s Let...   \n",
      "1      Ever get the feeling your life circles the rou...   \n",
      "2      Why the Truth Might Get You Fired October 29, ...   \n",
      "3      Videos 15 Civilians Killed In Single US Airstr...   \n",
      "4      Print \\nAn Iranian woman has been sentenced to...   \n",
      "...                                                  ...   \n",
      "20795  Rapper T. I. unloaded on black celebrities who...   \n",
      "20796  When the Green Bay Packers lost to the Washing...   \n",
      "20797  The Macy’s of today grew from the union of sev...   \n",
      "20798  NATO, Russia To Hold Parallel Exercises In Bal...   \n",
      "20799    David Swanson is an author, activist, journa...   \n",
      "\n",
      "                                                 content  \n",
      "0      Darrell Lucus House Dem Aide: We Didn’t Even S...  \n",
      "1      Daniel J. Flynn FLYNN: Hillary Clinton, Big Wo...  \n",
      "2      Consortiumnews.com Why the Truth Might Get You...  \n",
      "3      Jessica Purkiss 15 Civilians Killed In Single ...  \n",
      "4      Howard Portnoy Iranian woman jailed for fictio...  \n",
      "...                                                  ...  \n",
      "20795  Jerome Hudson Rapper T.I.: Trump a ’Poster Chi...  \n",
      "20796  Benjamin Hoffman N.F.L. Playoffs: Schedule, Ma...  \n",
      "20797  Michael J. de la Merced and Rachel Abrams Macy...  \n",
      "20798  Alex Ansary NATO, Russia To Hold Parallel Exer...  \n",
      "20799            David Swanson What Keeps the F-35 Alive  \n",
      "\n",
      "[20800 rows x 5 columns]\n",
      "0        1\n",
      "1        0\n",
      "2        1\n",
      "3        1\n",
      "4        1\n",
      "        ..\n",
      "20795    0\n",
      "20796    0\n",
      "20797    0\n",
      "20798    1\n",
      "20799    1\n",
      "Name: label, Length: 20800, dtype: int64\n"
     ]
    }
   ],
   "source": [
    "print(X)\n",
    "print(Y)"
   ]
  },
  {
   "cell_type": "code",
   "execution_count": 98,
   "id": "95f6f110-a074-47f4-9227-dcbc4eff4a59",
   "metadata": {},
   "outputs": [],
   "source": [
    "# Creating One-Hot Representations\n",
    "messages = X.copy()\n",
    "messages.reset_index(inplace=True)\n",
    "messages_test = test_data.copy()\n",
    "messages_test.reset_index(inplace=True)"
   ]
  },
  {
   "cell_type": "markdown",
   "id": "af63a138-5cb6-4db0-a481-15233ffbc2c2",
   "metadata": {},
   "source": [
    "### Stemming\n",
    "\n",
    "- A stemming algorithm is a process of linguistic normalisation, in which the variant forms of a word are reduced to a common form.\n",
    "- In simple words, Stemming is the process of reducing a word to its Root word.\n",
    "\n",
    "- EXAMPLES:\n",
    "    - actor, actress, acting --> act\n",
    "    - eating, eats, eaten --> eat"
   ]
  },
  {
   "cell_type": "code",
   "execution_count": 99,
   "id": "3959a66d-b65a-4344-8961-2db62b361fe5",
   "metadata": {},
   "outputs": [
    {
     "data": {
      "text/plain": [
       "'daniel j flynn flynn hillari clinton big woman campu breitbart'"
      ]
     },
     "execution_count": 99,
     "metadata": {},
     "output_type": "execute_result"
    }
   ],
   "source": [
    "ps = PorterStemmer()\n",
    "def perform_preprocess(data):\n",
    "    '''Input: Data to be processed\n",
    "       Output: Preprocessed data\n",
    "    '''\n",
    "    corpus = []\n",
    "    for i in range(0,len(data)):\n",
    "        review = re.sub('[^a-zA-Z]',' ',data['content'][i])\n",
    "        review = review.lower()\n",
    "        review = review.split()\n",
    "        review = [ps.stem(word) for word in review if word not in stopwords.words('english')]\n",
    "        review = ' '.join(review)\n",
    "        corpus.append(review)\n",
    "    return corpus\n",
    "    \n",
    "train_corpus = perform_preprocess(messages)\n",
    "test_corpus  = perform_preprocess(messages_test)\n",
    "train_corpus[1]"
   ]
  },
  {
   "cell_type": "code",
   "execution_count": 100,
   "id": "d6e30cc4-ecf2-4ff1-bfa5-484735d49902",
   "metadata": {},
   "outputs": [
    {
     "data": {
      "text/plain": [
       "'russian warship readi strike terrorist near aleppo'"
      ]
     },
     "execution_count": 100,
     "metadata": {},
     "output_type": "execute_result"
    }
   ],
   "source": [
    "test_corpus[1]"
   ]
  },
  {
   "cell_type": "markdown",
   "id": "e3448a82-50fd-4c1c-8f7e-f1eb710fcd62",
   "metadata": {},
   "source": [
    "Below code converts the pre-processed words to one-hot vectors in the range of vocabulary size=5000. This is done to obtain numerical feature matrix"
   ]
  },
  {
   "cell_type": "code",
   "execution_count": 101,
   "id": "d6a86652-ab12-449f-92c5-dae171b153ed",
   "metadata": {},
   "outputs": [],
   "source": [
    "# Converting to one-hot repr.\n",
    "vocab_size = 5000\n",
    "one_hot_train = [one_hot(word,vocab_size) for word in train_corpus]\n",
    "one_hot_test  = [one_hot(word,vocab_size) for word in test_corpus]"
   ]
  },
  {
   "cell_type": "code",
   "execution_count": 102,
   "id": "e453cecc-591a-4de6-9130-6d66632cfe8d",
   "metadata": {},
   "outputs": [
    {
     "data": {
      "text/plain": [
       "[76, 4807, 1219, 3078, 3933, 3803, 2722]"
      ]
     },
     "execution_count": 102,
     "metadata": {},
     "output_type": "execute_result"
    }
   ],
   "source": [
    "one_hot_test[1]"
   ]
  },
  {
   "cell_type": "markdown",
   "id": "5a54c279-a6fd-42ed-aae8-6ad0f4ab0558",
   "metadata": {},
   "source": [
    "Below code creates an embedding layer which applies \"pre\" padding to the one-hot encoded features with sentence length = 20. Padding is applied so that the length of every sequence in the dataset should be same."
   ]
  },
  {
   "cell_type": "code",
   "execution_count": 103,
   "id": "2c1c08ee-5fc7-4d69-be0b-fcb4799ef84a",
   "metadata": {},
   "outputs": [
    {
     "name": "stdout",
     "output_type": "stream",
     "text": [
      "[[   0    0    0 ... 1111 4588 1229]\n",
      " [   0    0    0 ... 4499  318 1787]\n",
      " [   0    0    0 ... 1708 3099  119]\n",
      " ...\n",
      " [   0    0    0 ... 1467 3639  247]\n",
      " [   0    0    0 ... 3520   66 1833]\n",
      " [   0    0    0 ... 2907 3289 3355]]\n"
     ]
    }
   ],
   "source": [
    "# Embedding Representation \n",
    "sent_length = 20\n",
    "embedd_docs_train = pad_sequences(one_hot_train,padding='pre',maxlen=sent_length)\n",
    "embedd_docs_test  = pad_sequences(one_hot_test,padding='pre',maxlen=sent_length)\n",
    "print(embedd_docs_train)"
   ]
  },
  {
   "cell_type": "code",
   "execution_count": 104,
   "id": "fffb0341-4e72-479f-ad28-58330c6bf55e",
   "metadata": {},
   "outputs": [
    {
     "name": "stdout",
     "output_type": "stream",
     "text": [
      "[[   0    0    0 ... 1467 3639  247]\n",
      " [   0    0    0 ... 3933 3803 2722]\n",
      " [   0    0    0 ... 4877  250 1868]\n",
      " ...\n",
      " [   0    0    0 ... 1467 3639  247]\n",
      " [   0    0    0 ...   76 3168 2189]\n",
      " [   0    0    0 ... 1467 3639  247]]\n"
     ]
    }
   ],
   "source": [
    "print(embedd_docs_test)"
   ]
  },
  {
   "cell_type": "code",
   "execution_count": 105,
   "id": "c02cc990-e19d-475d-9cc6-edd5de614481",
   "metadata": {},
   "outputs": [],
   "source": [
    "# Converting Embedding repr. to array\n",
    "x_final = np.array(embedd_docs_train)\n",
    "y_final = np.array(Y)\n",
    "x_test_final = np.array(embedd_docs_test)"
   ]
  },
  {
   "cell_type": "code",
   "execution_count": 106,
   "id": "097e8af1-10f0-4a75-890f-e78c1cbb75ac",
   "metadata": {},
   "outputs": [
    {
     "data": {
      "text/plain": [
       "((20800, 20), (20800,), (5200, 20))"
      ]
     },
     "execution_count": 106,
     "metadata": {},
     "output_type": "execute_result"
    }
   ],
   "source": [
    "# Dimensions of prev. array repr.\n",
    "x_final.shape,y_final.shape,x_test_final.shape"
   ]
  },
  {
   "cell_type": "markdown",
   "id": "8fb6c2b0-4046-4884-8ba8-5a43aacb085f",
   "metadata": {},
   "source": [
    "Dividing the dataset into training,validation and testing data (ratio: 80/10/10) using train_test_split technique."
   ]
  },
  {
   "cell_type": "code",
   "execution_count": 107,
   "id": "98fa4830-79cb-4188-8154-9f8f97d30c77",
   "metadata": {},
   "outputs": [],
   "source": [
    "# SPLITTING THE DATASET INTO TRAINING DATA & TEST DATA:\n",
    "\n",
    "x_train, x_test, y_train, y_test = train_test_split(x_final, y_final, test_size=0.1, random_state=42, stratify = y_final)\n",
    "X_train, x_valid, Y_train, y_valid = train_test_split(x_train, y_train, test_size=0.1, random_state=42, stratify = y_train)\n",
    "x_test_final = x_test_final\n"
   ]
  },
  {
   "cell_type": "markdown",
   "id": "4cabf91b-d9c0-4a64-92b5-5508ed85f945",
   "metadata": {},
   "source": [
    "### Training the Models:"
   ]
  },
  {
   "cell_type": "markdown",
   "id": "bc87327a-9090-4cba-a6f9-028a23a66a80",
   "metadata": {},
   "source": [
    "\n",
    "#### Logistic Regression:\n",
    "\n",
    "Logistic regression is a statistical analysis method to predict a binary outcome, such as yes or no, based on prior observations of a data set. A logistic regression model predicts a dependent data variable by analyzing the relationship between one or more existing independent variables."
   ]
  },
  {
   "cell_type": "code",
   "execution_count": 108,
   "id": "241b53e5-b831-4484-8240-47143dfe1dd7",
   "metadata": {},
   "outputs": [],
   "source": [
    "model = LogisticRegression(max_iter=900)"
   ]
  },
  {
   "cell_type": "code",
   "execution_count": 109,
   "id": "6a92459a-6510-474e-a3b7-476e23d251bc",
   "metadata": {},
   "outputs": [
    {
     "data": {
      "text/plain": [
       "LogisticRegression(max_iter=900)"
      ]
     },
     "execution_count": 109,
     "metadata": {},
     "output_type": "execute_result"
    }
   ],
   "source": [
    "model.fit(X_train, Y_train)"
   ]
  },
  {
   "cell_type": "markdown",
   "id": "8ae85b29-082a-4b49-b17a-f91b566ba267",
   "metadata": {},
   "source": [
    "#### Evaluation"
   ]
  },
  {
   "cell_type": "code",
   "execution_count": 110,
   "id": "3be495c8-5e8f-4836-ace5-d0553ac006e6",
   "metadata": {},
   "outputs": [],
   "source": [
    "# accuracy score on the training data\n",
    "X_train_prediction = model.predict(X_train)\n",
    "training_data_accuracy = accuracy_score(X_train_prediction, Y_train)"
   ]
  },
  {
   "cell_type": "code",
   "execution_count": 111,
   "id": "56aee91b-83f8-42c7-b49f-94199548494a",
   "metadata": {},
   "outputs": [
    {
     "name": "stdout",
     "output_type": "stream",
     "text": [
      "Accuracy score of the training data :  0.7708333333333334\n"
     ]
    }
   ],
   "source": [
    "print('Accuracy score of the training data : ', training_data_accuracy)"
   ]
  },
  {
   "cell_type": "code",
   "execution_count": 112,
   "id": "3077a12c-0890-4449-90e2-161ed5e8329f",
   "metadata": {},
   "outputs": [],
   "source": [
    "# accuracy score on the test data\n",
    "X_test_prediction = model.predict(x_test)\n",
    "test_data_accuracy = accuracy_score(X_test_prediction, Y_test)"
   ]
  },
  {
   "cell_type": "code",
   "execution_count": 113,
   "id": "bd69b5ff-231c-4512-aa7d-ae344641209f",
   "metadata": {},
   "outputs": [
    {
     "name": "stdout",
     "output_type": "stream",
     "text": [
      "Accuracy score of the test data :  0.7735576923076923\n"
     ]
    }
   ],
   "source": [
    "print('Accuracy score of the test data : ', test_data_accuracy)"
   ]
  },
  {
   "cell_type": "code",
   "execution_count": 114,
   "id": "6d45ef2f-62e2-45fc-8525-b0a72fae5056",
   "metadata": {},
   "outputs": [
    {
     "name": "stdout",
     "output_type": "stream",
     "text": [
      "              precision    recall  f1-score   support\n",
      "\n",
      "           0       0.77      0.77      0.77      1039\n",
      "           1       0.77      0.78      0.77      1041\n",
      "\n",
      "    accuracy                           0.77      2080\n",
      "   macro avg       0.77      0.77      0.77      2080\n",
      "weighted avg       0.77      0.77      0.77      2080\n",
      "\n"
     ]
    }
   ],
   "source": [
    "print(classification_report(Y_test, X_test_prediction))"
   ]
  },
  {
   "cell_type": "markdown",
   "id": "679d7217-e6bc-4017-81dd-0d511b5d067c",
   "metadata": {},
   "source": [
    "### Confusion Matrix\n",
    "The confusion matrix is a 2 dimensional array comparing predicted category labels to the true label."
   ]
  },
  {
   "cell_type": "code",
   "execution_count": 115,
   "id": "35fd163e-8b9b-4843-aab1-1fd014120b60",
   "metadata": {},
   "outputs": [],
   "source": [
    "import matplotlib.pyplot as plt\n",
    "\n",
    "def plot_confusion_matrix(cm, classes,\n",
    "                          normalize=False,\n",
    "                          title='Confusion matrix',\n",
    "                          cmap=plt.cm.Purples):\n",
    "    plt.imshow(cm, interpolation='nearest', cmap=cmap)\n",
    "    plt.title(title)\n",
    "    plt.colorbar()\n",
    "    tick_marks = np.arange(len(classes))\n",
    "    plt.xticks(tick_marks, classes, rotation=45)\n",
    "    plt.yticks(tick_marks, classes)\n",
    "\n",
    "    if normalize:\n",
    "        cm = cm.astype('float') / cm.sum(axis=1)[:, np.newaxis]\n",
    "        print(\"Normalized confusion matrix\")\n",
    "    else:\n",
    "        print('Confusion matrix, without normalization')\n",
    "\n",
    "    thresh = cm.max() / 2.\n",
    "    for i, j in itertools.product(range(cm.shape[0]), range(cm.shape[1])):\n",
    "        plt.text(j, i, cm[i, j],\n",
    "                 horizontalalignment=\"center\",\n",
    "                 color=\"white\" if cm[i, j] > thresh else \"black\")\n",
    "\n",
    "    plt.tight_layout()\n",
    "    plt.ylabel('True label')\n",
    "    plt.xlabel('Predicted label')"
   ]
  },
  {
   "cell_type": "markdown",
   "id": "6576ecc8-fa12-4ab1-a754-2a31d9710e02",
   "metadata": {},
   "source": [
    "### CLASSIFICATION MODEL : MULTINOMIAL NAIVE BAYES\n",
    "\n",
    "- Multinomial Naive Bayes algorithm is a probabilistic learning method that is mostly used in Natural Language Processing (NLP)\n",
    "\n",
    "- Multinomial Naïve Bayes uses term frequency i.e. the number of times a given term appears in a document. Term frequency is often normalized by dividing the raw term frequency by the document length\n"
   ]
  },
  {
   "cell_type": "code",
   "execution_count": 116,
   "id": "93023bed-a653-456d-b569-3c420da18c4d",
   "metadata": {},
   "outputs": [],
   "source": [
    "#let's implement the model : Multinomial Naive Bayes\n",
    "from sklearn.naive_bayes import MultinomialNB\n",
    "classifier=MultinomialNB()"
   ]
  },
  {
   "cell_type": "code",
   "execution_count": 117,
   "id": "794bcdbe-1620-4b19-b802-e5fc3633554c",
   "metadata": {},
   "outputs": [
    {
     "name": "stdout",
     "output_type": "stream",
     "text": [
      "accuracy:   0.714\n",
      "Confusion matrix, without normalization\n"
     ]
    },
    {
     "data": {
      "image/png": "[encoded data removed]",
      "text/plain": [
       "<Figure size 432x288 with 2 Axes>"
      ]
     },
     "metadata": {
      "needs_background": "light"
     },
     "output_type": "display_data"
    }
   ],
   "source": [
    "from sklearn import metrics\n",
    "import numpy as np\n",
    "import itertools\n",
    "\n",
    "classifier.fit(X_train, Y_train)\n",
    "prediction1 = classifier.predict(x_test)\n",
    "score = metrics.accuracy_score(Y_test, prediction1)\n",
    "print(\"accuracy:   %0.3f\" % score)\n",
    "cm1 = metrics.confusion_matrix(Y_test, prediction1)\n",
    "plot_confusion_matrix(cm1, classes=['FAKE', 'REAL'])\n",
    "plt.savefig(\"NaiveBayes_CM\")"
   ]
  },
  {
   "cell_type": "code",
   "execution_count": 118,
   "id": "491b2879-15e1-48fc-94d6-98f9161d5898",
   "metadata": {},
   "outputs": [
    {
     "name": "stdout",
     "output_type": "stream",
     "text": [
      "              precision    recall  f1-score   support\n",
      "\n",
      "           0       0.74      0.66      0.70      1039\n",
      "           1       0.69      0.77      0.73      1041\n",
      "\n",
      "    accuracy                           0.71      2080\n",
      "   macro avg       0.72      0.71      0.71      2080\n",
      "weighted avg       0.72      0.71      0.71      2080\n",
      "\n"
     ]
    }
   ],
   "source": [
    "print(classification_report(Y_test,prediction1))"
   ]
  },
  {
   "cell_type": "markdown",
   "id": "d4b456d3-2bc4-4663-b872-c4838e7bce7b",
   "metadata": {},
   "source": [
    "### CLASSIFICATION MODEL : PASSIVE AGGRESSIVE CLASSIFIER\n",
    "\n",
    "- Passive Aggressive Classifier works by responding as passive for correct classifications and responding as aggressive for any miscalculation."
   ]
  },
  {
   "cell_type": "code",
   "execution_count": 119,
   "id": "fa13037f-9d41-4554-ba05-b425525a11fc",
   "metadata": {},
   "outputs": [
    {
     "name": "stdout",
     "output_type": "stream",
     "text": [
      "accuracy:   0.731\n",
      "Confusion matrix, without normalization\n"
     ]
    },
    {
     "data": {
      "image/png": "[encoded data removed]",
      "text/plain": [
       "<Figure size 432x288 with 2 Axes>"
      ]
     },
     "metadata": {
      "needs_background": "light"
     },
     "output_type": "display_data"
    }
   ],
   "source": [
    "#lets implemet the algorithm : Passive Aggressive Classifier\n",
    "from sklearn.linear_model import PassiveAggressiveClassifier\n",
    "linear_clf = PassiveAggressiveClassifier(max_iter=50)\n",
    "\n",
    "linear_clf.fit(X_train, Y_train)\n",
    "prediction2 = linear_clf.predict(x_test)\n",
    "score = metrics.accuracy_score(Y_test, prediction2)\n",
    "print(\"accuracy:   %0.3f\" % score)\n",
    "cm2 = metrics.confusion_matrix(Y_test, prediction2)\n",
    "plot_confusion_matrix(cm2, classes=['FAKE Data', 'REAL Data'])\n",
    "plt.savefig(\"PassiveAggressive_CM\")"
   ]
  },
  {
   "cell_type": "code",
   "execution_count": 120,
   "id": "3479dde4-4441-41d8-a31f-f284482b71a9",
   "metadata": {},
   "outputs": [
    {
     "name": "stdout",
     "output_type": "stream",
     "text": [
      "              precision    recall  f1-score   support\n",
      "\n",
      "           0       0.67      0.89      0.77      1039\n",
      "           1       0.84      0.57      0.68      1041\n",
      "\n",
      "    accuracy                           0.73      2080\n",
      "   macro avg       0.76      0.73      0.72      2080\n",
      "weighted avg       0.76      0.73      0.72      2080\n",
      "\n"
     ]
    }
   ],
   "source": [
    "print(classification_report(Y_test,prediction2))"
   ]
  },
  {
   "cell_type": "markdown",
   "id": "0b0805fd-3232-47d9-8b12-186d602057cd",
   "metadata": {},
   "source": [
    "## Model : Decision Trees\n",
    "\n",
    "A decision tree is a graph that uses a branching method to illustrate every possible output for a specific input."
   ]
  },
  {
   "cell_type": "code",
   "execution_count": 121,
   "id": "a74bdbad-d142-4040-8064-ceb224ff2c8d",
   "metadata": {},
   "outputs": [
    {
     "name": "stdout",
     "output_type": "stream",
     "text": [
      "Confusion matrix, without normalization\n"
     ]
    },
    {
     "data": {
      "image/png": "[encoded data removed]",
      "text/plain": [
       "<Figure size 432x288 with 2 Axes>"
      ]
     },
     "metadata": {
      "needs_background": "light"
     },
     "output_type": "display_data"
    }
   ],
   "source": [
    "model_4 = DecisionTreeClassifier()\n",
    "model_4.fit(X_train,Y_train)\n",
    "prediction3 = model_4.predict(x_test)\n",
    "cm1 = metrics.confusion_matrix(Y_test, prediction3)\n",
    "plot_confusion_matrix(cm1, classes=['FAKE', 'REAL'])\n",
    "plt.savefig(\"DecisionTrees_CM\")"
   ]
  },
  {
   "cell_type": "code",
   "execution_count": 122,
   "id": "94cdd7fa-f849-4687-8fff-966cb9ddd7d4",
   "metadata": {},
   "outputs": [
    {
     "name": "stdout",
     "output_type": "stream",
     "text": [
      "              precision    recall  f1-score   support\n",
      "\n",
      "           0       0.89      0.89      0.89      1039\n",
      "           1       0.89      0.89      0.89      1041\n",
      "\n",
      "    accuracy                           0.89      2080\n",
      "   macro avg       0.89      0.89      0.89      2080\n",
      "weighted avg       0.89      0.89      0.89      2080\n",
      "\n"
     ]
    }
   ],
   "source": [
    "cr3    = classification_report(Y_test,prediction3)\n",
    "print(cr3)"
   ]
  },
  {
   "cell_type": "markdown",
   "id": "8b626cc6-6ad5-44f9-8f09-8a8ced6548fc",
   "metadata": {},
   "source": [
    "## Model : Random Forest\n",
    "\n",
    "The random forest is a classification algorithm consisting of many decisions trees."
   ]
  },
  {
   "cell_type": "code",
   "execution_count": 123,
   "id": "f333cf3a-5b48-4c84-b98b-917e29eafd66",
   "metadata": {},
   "outputs": [
    {
     "name": "stdout",
     "output_type": "stream",
     "text": [
      "Confusion matrix, without normalization\n"
     ]
    },
    {
     "data": {
      "image/png": "[encoded data removed]",
      "text/plain": [
       "<Figure size 432x288 with 2 Axes>"
      ]
     },
     "metadata": {
      "needs_background": "light"
     },
     "output_type": "display_data"
    }
   ],
   "source": [
    "model_5 = RandomForestClassifier()\n",
    "model_5.fit(X_train,Y_train)\n",
    "prediction4 = model_5.predict(x_test)\n",
    "cm1 = metrics.confusion_matrix(Y_test, prediction4)\n",
    "plot_confusion_matrix(cm1, classes=['FAKE', 'REAL'])\n",
    "plt.savefig(\"RandomForest_CM\")"
   ]
  },
  {
   "cell_type": "code",
   "execution_count": 124,
   "id": "0cfecf11-ab98-4170-8ef3-f58d2fc9e4a9",
   "metadata": {},
   "outputs": [
    {
     "name": "stdout",
     "output_type": "stream",
     "text": [
      "              precision    recall  f1-score   support\n",
      "\n",
      "           0       0.99      0.83      0.90      1039\n",
      "           1       0.85      0.99      0.92      1041\n",
      "\n",
      "    accuracy                           0.91      2080\n",
      "   macro avg       0.92      0.91      0.91      2080\n",
      "weighted avg       0.92      0.91      0.91      2080\n",
      "\n"
     ]
    }
   ],
   "source": [
    "cr4    = classification_report(Y_test,prediction4)\n",
    "print(cr4)"
   ]
  },
  {
   "cell_type": "markdown",
   "id": "a130bb16-ea01-4d81-9227-daa97e834b76",
   "metadata": {},
   "source": [
    "## XGBOOST\n",
    "\n",
    "XGBoost, which stands for Extreme Gradient Boosting, is a scalable, distributed gradient-boosted decision tree (GBDT) machine learning library. It provides parallel tree boosting and is the leading machine learning library for regression, classification, and ranking problems."
   ]
  },
  {
   "cell_type": "code",
   "execution_count": 125,
   "id": "0c9fd805-963b-4e14-9ce9-1e7ed417e051",
   "metadata": {},
   "outputs": [
    {
     "name": "stdout",
     "output_type": "stream",
     "text": [
      "Confusion matrix, without normalization\n"
     ]
    },
    {
     "data": {
      "image/png": "[encoded data removed]",
      "text/plain": [
       "<Figure size 432x288 with 2 Axes>"
      ]
     },
     "metadata": {
      "needs_background": "light"
     },
     "output_type": "display_data"
    }
   ],
   "source": [
    "model_6 = XGBClassifier()\n",
    "model_6.fit(X_train,Y_train)\n",
    "prediction5 = model_6.predict(x_test)\n",
    "cm1 = metrics.confusion_matrix(Y_test, prediction5)\n",
    "plot_confusion_matrix(cm1, classes=['FAKE', 'REAL'])\n",
    "plt.savefig(\"XGBoost_CM\")"
   ]
  },
  {
   "cell_type": "code",
   "execution_count": 126,
   "id": "678daeb5-72e9-4471-a651-8ce2a068a0f2",
   "metadata": {},
   "outputs": [
    {
     "name": "stdout",
     "output_type": "stream",
     "text": [
      "              precision    recall  f1-score   support\n",
      "\n",
      "           0       0.98      0.88      0.93      1039\n",
      "           1       0.89      0.98      0.94      1041\n",
      "\n",
      "    accuracy                           0.93      2080\n",
      "   macro avg       0.94      0.93      0.93      2080\n",
      "weighted avg       0.94      0.93      0.93      2080\n",
      "\n"
     ]
    }
   ],
   "source": [
    "cr5    = classification_report(Y_test,prediction5)\n",
    "print(cr5)"
   ]
  },
  {
   "cell_type": "markdown",
   "id": "f321800a-a366-4302-b7be-2f4d77439233",
   "metadata": {},
   "source": [
    "## LSTM\n",
    "In this model, 1.) The value for embedding feature vectors = 40 which are target feature vectors for the embedding layer. 2.) Single LSTM Layer with 100 nodes are used. 3.)Dense Layer with 1 neuron and sigmoid activation function is used since, this is a binary classification problem. 4) Dropout technique is used to avoid overfiiting and adam optimizer is used for optimizing the loss function."
   ]
  },
  {
   "cell_type": "code",
   "execution_count": 127,
   "id": "b94b9703-9d30-44db-a683-20f17e58dd06",
   "metadata": {},
   "outputs": [
    {
     "name": "stdout",
     "output_type": "stream",
     "text": [
      "Model: \"sequential_2\"\n",
      "_________________________________________________________________\n",
      " Layer (type)                Output Shape              Param #   \n",
      "=================================================================\n",
      " embedding_2 (Embedding)     (None, 20, 40)            200000    \n",
      "                                                                 \n",
      " dropout_4 (Dropout)         (None, 20, 40)            0         \n",
      "                                                                 \n",
      " lstm_2 (LSTM)               (None, 100)               56400     \n",
      "                                                                 \n",
      " dropout_5 (Dropout)         (None, 100)               0         \n",
      "                                                                 \n",
      " dense_2 (Dense)             (None, 1)                 101       \n",
      "                                                                 \n",
      "=================================================================\n",
      "Total params: 256,501\n",
      "Trainable params: 256,501\n",
      "Non-trainable params: 0\n",
      "_________________________________________________________________\n",
      "None\n"
     ]
    }
   ],
   "source": [
    "# Creating the LSTM Model for prediction\n",
    "embedding_feature_vector = 40\n",
    "model = Sequential()\n",
    "model.add(Embedding(vocab_size,embedding_feature_vector,input_length=sent_length))\n",
    "model.add(Dropout(0.3))\n",
    "model.add(LSTM(100))\n",
    "model.add(Dropout(0.3))\n",
    "model.add(Dense(1,activation='sigmoid'))\n",
    "model.compile(loss='binary_crossentropy',optimizer='adam',metrics=['accuracy'])\n",
    "print(model.summary())"
   ]
  },
  {
   "cell_type": "code",
   "execution_count": 128,
   "id": "bd2202be-843b-4af7-aef6-1ea1ddea5d0c",
   "metadata": {},
   "outputs": [
    {
     "name": "stdout",
     "output_type": "stream",
     "text": [
      "Epoch 1/10\n",
      "264/264 [==============================] - 7s 22ms/step - loss: 0.2242 - accuracy: 0.9044 - val_loss: 0.0568 - val_accuracy: 0.9834\n",
      "Epoch 2/10\n",
      "264/264 [==============================] - 6s 21ms/step - loss: 0.0350 - accuracy: 0.9890 - val_loss: 0.0285 - val_accuracy: 0.9893\n",
      "Epoch 3/10\n",
      "264/264 [==============================] - 6s 21ms/step - loss: 0.0141 - accuracy: 0.9957 - val_loss: 0.0242 - val_accuracy: 0.9893\n",
      "Epoch 4/10\n",
      "264/264 [==============================] - 6s 21ms/step - loss: 0.0073 - accuracy: 0.9983 - val_loss: 0.0331 - val_accuracy: 0.9899\n",
      "Epoch 5/10\n",
      "264/264 [==============================] - 6s 21ms/step - loss: 0.0069 - accuracy: 0.9981 - val_loss: 0.0335 - val_accuracy: 0.9904\n",
      "Epoch 6/10\n",
      "264/264 [==============================] - 6s 21ms/step - loss: 0.0029 - accuracy: 0.9990 - val_loss: 0.0260 - val_accuracy: 0.9925\n",
      "Epoch 7/10\n",
      "264/264 [==============================] - 5s 21ms/step - loss: 0.0054 - accuracy: 0.9986 - val_loss: 0.0296 - val_accuracy: 0.9904\n",
      "Epoch 8/10\n",
      "264/264 [==============================] - 5s 21ms/step - loss: 0.0029 - accuracy: 0.9992 - val_loss: 0.0327 - val_accuracy: 0.9931\n",
      "Epoch 9/10\n",
      "264/264 [==============================] - 5s 21ms/step - loss: 0.0047 - accuracy: 0.9983 - val_loss: 0.0548 - val_accuracy: 0.9840\n",
      "Epoch 10/10\n",
      "264/264 [==============================] - 5s 21ms/step - loss: 0.0026 - accuracy: 0.9993 - val_loss: 0.0294 - val_accuracy: 0.9931\n"
     ]
    },
    {
     "data": {
      "text/plain": [
       "<keras.callbacks.History at 0x1a3cb487d60>"
      ]
     },
     "execution_count": 128,
     "metadata": {},
     "output_type": "execute_result"
    }
   ],
   "source": [
    "# Training the model\n",
    "model.fit(X_train,Y_train,validation_data=(x_valid,y_valid),epochs=10,batch_size=64)"
   ]
  },
  {
   "cell_type": "code",
   "execution_count": 129,
   "id": "f3926227-46c7-4859-b2ae-fefc59308cb8",
   "metadata": {},
   "outputs": [
    {
     "name": "stdout",
     "output_type": "stream",
     "text": [
      "65/65 [==============================] - 1s 5ms/step\n",
      "Confusion matrix, without normalization\n"
     ]
    },
    {
     "data": {
      "image/png": "[encoded data removed]",
      "text/plain": [
       "<Figure size 432x288 with 2 Axes>"
      ]
     },
     "metadata": {
      "needs_background": "light"
     },
     "output_type": "display_data"
    }
   ],
   "source": [
    "predictions = (model.predict(x_test) > 0.5).astype(\"int32\")\n",
    "cm1 = metrics.confusion_matrix(y_test, predictions)\n",
    "plot_confusion_matrix(cm1, classes=['FAKE', 'REAL'])\n",
    "plt.savefig(\"LSTM_CM\")"
   ]
  },
  {
   "cell_type": "code",
   "execution_count": 130,
   "id": "60044f25-603b-4470-99ab-8367a863786a",
   "metadata": {},
   "outputs": [
    {
     "name": "stdout",
     "output_type": "stream",
     "text": [
      "              precision    recall  f1-score   support\n",
      "\n",
      "           0       0.99      0.99      0.99      1039\n",
      "           1       0.99      0.99      0.99      1041\n",
      "\n",
      "    accuracy                           0.99      2080\n",
      "   macro avg       0.99      0.99      0.99      2080\n",
      "weighted avg       0.99      0.99      0.99      2080\n",
      "\n"
     ]
    }
   ],
   "source": [
    "cr = classification_report(y_test,predictions)\n",
    "print(cr)"
   ]
  },
  {
   "cell_type": "markdown",
   "id": "2f908641-3585-432f-bfec-04d56105da19",
   "metadata": {},
   "source": [
    "# Evaluation of Models"
   ]
  },
  {
   "cell_type": "code",
   "execution_count": 131,
   "id": "90eb1389-12cd-410d-bc13-e11b5d3ca6f2",
   "metadata": {},
   "outputs": [
    {
     "data": {
      "text/html": [
       "<div>\n",
       "<style scoped>\n",
       "    .dataframe tbody tr th:only-of-type {\n",
       "        vertical-align: middle;\n",
       "    }\n",
       "\n",
       "    .dataframe tbody tr th {\n",
       "        vertical-align: top;\n",
       "    }\n",
       "\n",
       "    .dataframe thead th {\n",
       "        text-align: right;\n",
       "    }\n",
       "</style>\n",
       "<table border=\"1\" class=\"dataframe\">\n",
       "  <thead>\n",
       "    <tr style=\"text-align: right;\">\n",
       "      <th></th>\n",
       "      <th>Model</th>\n",
       "      <th>Accuracy</th>\n",
       "    </tr>\n",
       "  </thead>\n",
       "  <tbody>\n",
       "    <tr>\n",
       "      <th>0</th>\n",
       "      <td>Logistic Regression</td>\n",
       "      <td>0.773558</td>\n",
       "    </tr>\n",
       "    <tr>\n",
       "      <th>1</th>\n",
       "      <td>Naive Bayes</td>\n",
       "      <td>0.713942</td>\n",
       "    </tr>\n",
       "    <tr>\n",
       "      <th>2</th>\n",
       "      <td>Passive Aggressive</td>\n",
       "      <td>0.731250</td>\n",
       "    </tr>\n",
       "    <tr>\n",
       "      <th>3</th>\n",
       "      <td>Decision Tree</td>\n",
       "      <td>0.889904</td>\n",
       "    </tr>\n",
       "    <tr>\n",
       "      <th>4</th>\n",
       "      <td>Random Forest</td>\n",
       "      <td>0.908654</td>\n",
       "    </tr>\n",
       "    <tr>\n",
       "      <th>5</th>\n",
       "      <td>XGBOOST</td>\n",
       "      <td>0.932692</td>\n",
       "    </tr>\n",
       "    <tr>\n",
       "      <th>6</th>\n",
       "      <td>LSTM</td>\n",
       "      <td>0.992788</td>\n",
       "    </tr>\n",
       "  </tbody>\n",
       "</table>\n",
       "</div>"
      ],
      "text/plain": [
       "                 Model  Accuracy\n",
       "0  Logistic Regression  0.773558\n",
       "1          Naive Bayes  0.713942\n",
       "2   Passive Aggressive  0.731250\n",
       "3        Decision Tree  0.889904\n",
       "4        Random Forest  0.908654\n",
       "5              XGBOOST  0.932692\n",
       "6                 LSTM  0.992788"
      ]
     },
     "execution_count": 131,
     "metadata": {},
     "output_type": "execute_result"
    }
   ],
   "source": [
    "score_1 = accuracy_score(y_test,X_test_prediction)\n",
    "score_2 = accuracy_score(y_test,prediction1)\n",
    "score_3 = accuracy_score(y_test,prediction2)\n",
    "score_4 = accuracy_score(y_test,prediction3)\n",
    "score_5 = accuracy_score(y_test,prediction4)\n",
    "score_6 = accuracy_score(y_test,prediction5)\n",
    "score_7 = accuracy_score(y_test,predictions)\n",
    "results = pd.DataFrame([[\"Logistic Regression\",score_1],[\"Naive Bayes\",score_2],[\"Passive Aggressive\",score_3],[\"Decision Tree\",score_4],\n",
    "                       [\"Random Forest\",score_5],[\"XGBOOST\",score_6],[\"LSTM\",score_7]],columns=[\"Model\",\"Accuracy\"])\n",
    "results"
   ]
  },
  {
   "cell_type": "markdown",
   "id": "59a4ddc9-6c4e-48d1-ac15-35854a80d154",
   "metadata": {},
   "source": [
    "<b>From the above results, it appears that LSTM Model gives the highest accuracy amongst various models. Therefore, it is selected as the final model for making predictions on final testing data.</b>"
   ]
  },
  {
   "cell_type": "markdown",
   "id": "5f0653f8-f382-492c-a774-8223b2c5b118",
   "metadata": {},
   "source": [
    "### Predictions on Testing Data"
   ]
  },
  {
   "cell_type": "code",
   "execution_count": 132,
   "id": "171c2dab-88c0-46c4-a653-390c63adfa03",
   "metadata": {},
   "outputs": [
    {
     "name": "stdout",
     "output_type": "stream",
     "text": [
      "65/65 [==============================] - 0s 6ms/step\n"
     ]
    }
   ],
   "source": [
    "# Making Predictions on test data\n",
    "predictions_test = pd.DataFrame((model.predict(x_test) > 0.5).astype(\"int32\"))\n",
    "test_id = pd.DataFrame(test_data[\"id\"])"
   ]
  },
  {
   "cell_type": "code",
   "execution_count": 133,
   "id": "091366be-a329-47e1-b14d-df05b804a977",
   "metadata": {},
   "outputs": [
    {
     "data": {
      "text/html": [
       "<div>\n",
       "<style scoped>\n",
       "    .dataframe tbody tr th:only-of-type {\n",
       "        vertical-align: middle;\n",
       "    }\n",
       "\n",
       "    .dataframe tbody tr th {\n",
       "        vertical-align: top;\n",
       "    }\n",
       "\n",
       "    .dataframe thead th {\n",
       "        text-align: right;\n",
       "    }\n",
       "</style>\n",
       "<table border=\"1\" class=\"dataframe\">\n",
       "  <thead>\n",
       "    <tr style=\"text-align: right;\">\n",
       "      <th></th>\n",
       "      <th>0</th>\n",
       "    </tr>\n",
       "  </thead>\n",
       "  <tbody>\n",
       "    <tr>\n",
       "      <th>0</th>\n",
       "      <td>1</td>\n",
       "    </tr>\n",
       "    <tr>\n",
       "      <th>1</th>\n",
       "      <td>1</td>\n",
       "    </tr>\n",
       "    <tr>\n",
       "      <th>2</th>\n",
       "      <td>1</td>\n",
       "    </tr>\n",
       "    <tr>\n",
       "      <th>3</th>\n",
       "      <td>0</td>\n",
       "    </tr>\n",
       "    <tr>\n",
       "      <th>4</th>\n",
       "      <td>0</td>\n",
       "    </tr>\n",
       "    <tr>\n",
       "      <th>...</th>\n",
       "      <td>...</td>\n",
       "    </tr>\n",
       "    <tr>\n",
       "      <th>2075</th>\n",
       "      <td>1</td>\n",
       "    </tr>\n",
       "    <tr>\n",
       "      <th>2076</th>\n",
       "      <td>1</td>\n",
       "    </tr>\n",
       "    <tr>\n",
       "      <th>2077</th>\n",
       "      <td>1</td>\n",
       "    </tr>\n",
       "    <tr>\n",
       "      <th>2078</th>\n",
       "      <td>0</td>\n",
       "    </tr>\n",
       "    <tr>\n",
       "      <th>2079</th>\n",
       "      <td>0</td>\n",
       "    </tr>\n",
       "  </tbody>\n",
       "</table>\n",
       "<p>2080 rows × 1 columns</p>\n",
       "</div>"
      ],
      "text/plain": [
       "      0\n",
       "0     1\n",
       "1     1\n",
       "2     1\n",
       "3     0\n",
       "4     0\n",
       "...  ..\n",
       "2075  1\n",
       "2076  1\n",
       "2077  1\n",
       "2078  0\n",
       "2079  0\n",
       "\n",
       "[2080 rows x 1 columns]"
      ]
     },
     "execution_count": 133,
     "metadata": {},
     "output_type": "execute_result"
    }
   ],
   "source": [
    "predictions_test"
   ]
  },
  {
   "cell_type": "code",
   "execution_count": null,
   "id": "2135de5f-2b46-4007-8f5d-0087c75a5f1e",
   "metadata": {},
   "outputs": [],
   "source": []
  }
 ],
 "metadata": {
  "kernelspec": {
   "display_name": "Python 3",
   "language": "python",
   "name": "python3"
  },
  "language_info": {
   "codemirror_mode": {
    "name": "ipython",
    "version": 3
   },
   "file_extension": ".py",
   "mimetype": "text/x-python",
   "name": "python",
   "nbconvert_exporter": "python",
   "pygments_lexer": "ipython3",
   "version": "3.9.2"
  }
 },
 "nbformat": 4,
 "nbformat_minor": 5
}
